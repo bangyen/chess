{
 "cells": [
  {
   "cell_type": "markdown",
   "id": "7fb27b941602401d91542211134fc71a",
   "metadata": {
    "id": "7fb27b941602401d91542211134fc71a"
   },
   "source": [
    "# Chess AI Toolkit Demo\n",
    "\n",
    "This notebook demonstrates the key features of the Chess AI toolkit for feature explainability analysis and interactive chess gameplay.\n",
    "\n",
    "## What is Chess AI?\n",
    "\n",
    "A comprehensive chess AI toolkit featuring:\n",
    "\n",
    "1. **Feature Explainability Audit**: Evaluate how well chess features explain Stockfish's evaluations using machine learning\n",
    "2. **Explainable Chess Engine**: Play against Stockfish with move explanations and learning feedback  \n",
    "3. **Advanced Positional Metrics**: Sophisticated chess position analysis including passed pawn momentum, king safety, and piece activity\n",
    "4. **Kendall Tau Correlation**: Statistical analysis of move ranking correlations\n",
    "\n",
    "**Key Benefits:**\n",
    "- Understand why chess engines make specific moves\n",
    "- Learn chess through interactive gameplay with explanations\n",
    "- Analyze chess positions using advanced metrics\n",
    "- Research chess AI explainability"
   ]
  },
  {
   "cell_type": "markdown",
   "id": "acae54e37e7d407bbb7b55eff062a284",
   "metadata": {
    "id": "acae54e37e7d407bbb7b55eff062a284"
   },
   "source": [
    "## Setup and Installation"
   ]
  },
  {
   "cell_type": "code",
   "execution_count": null,
   "id": "9a63283cbaf04dbcab1f6479b197f3a8",
   "metadata": {
    "id": "9a63283cbaf04dbcab1f6479b197f3a8"
   },
   "outputs": [],
   "source": [
    "! [ ! -d \"chess\" ] && git clone https://github.com/bangyen/chess.git\n",
    "! cd chess && pip install -e .\n",
    "\n",
    "print(\"Setup complete!\")"
   ]
  },
  {
   "cell_type": "markdown",
   "id": "8dd0d8092fe74a7c96281538738b07e2",
   "metadata": {
    "id": "8dd0d8092fe74a7c96281538738b07e2"
   },
   "source": [
    "## Imports and Configuration"
   ]
  },
  {
   "cell_type": "code",
   "execution_count": null,
   "id": "0e0c4552",
   "metadata": {
    "id": "0e0c4552"
   },
   "outputs": [],
   "source": [
    "import os\n",
    "\n",
    "os.chdir('./chess')\n",
    "print(f\"Current working directory: {os.getcwd()}\")"
   ]
  },
  {
   "cell_type": "code",
   "execution_count": null,
   "id": "72eea5119410473aa328ad9291626812",
   "metadata": {
    "id": "72eea5119410473aa328ad9291626812"
   },
   "outputs": [],
   "source": [
    "import chess\n",
    "import numpy as np\n",
    "\n",
    "from src.chess_ai import baseline_extract_features\n",
    "from src.chess_ai.explainable_engine import ExplainableChessEngine\n",
    "from src.chess_ai.metrics.positional import passed_pawn_momentum_snapshot\n",
    "\n",
    "# Set random seed for reproducibility\n",
    "np.random.seed(42)\n",
    "\n",
    "print(\"Chess AI toolkit imported successfully!\")"
   ]
  },
  {
   "cell_type": "markdown",
   "id": "8edb47106e1a46a883d545849b8ab81b",
   "metadata": {
    "id": "8edb47106e1a46a883d545849b8ab81b"
   },
   "source": [
    "## 1. Feature Explainability Audit\n"
   ]
  },
  {
   "cell_type": "code",
   "execution_count": null,
   "id": "10185d26023b46108eb7d9f57d49d2b3",
   "metadata": {
    "id": "10185d26023b46108eb7d9f57d49d2b3"
   },
   "outputs": [],
   "source": [
    "# Create sample chess positions for analysis\n",
    "def create_sample_positions():\n",
    "    \"\"\"Create a variety of chess positions for feature analysis.\"\"\"\n",
    "    positions = []\n",
    "\n",
    "    # Starting position\n",
    "    board = chess.Board()\n",
    "    positions.append(board.copy())\n",
    "\n",
    "    # After e4 e5\n",
    "    board = chess.Board()\n",
    "    board.push_san(\"e4\")\n",
    "    board.push_san(\"e5\")\n",
    "    positions.append(board.copy())\n",
    "\n",
    "    # After e4 e5 Nf3 Nc6\n",
    "    board.push_san(\"Nf3\")\n",
    "    board.push_san(\"Nc6\")\n",
    "    positions.append(board.copy())\n",
    "\n",
    "    # Tactical position with hanging piece\n",
    "    board = chess.Board(\"r1bqkb1r/pppp1ppp/2n2n2/4p3/2B1P3/3P1N2/PPP2PPP/RNBQK2R w KQkq - 4 4\")\n",
    "    positions.append(board.copy())\n",
    "\n",
    "    # Endgame position\n",
    "    board = chess.Board(\"8/8/8/8/8/8/4K3/4k3 w - - 0 1\")\n",
    "    positions.append(board.copy())\n",
    "\n",
    "    return positions\n",
    "\n",
    "# Generate sample positions\n",
    "sample_positions = create_sample_positions()\n",
    "print(f\"Created {len(sample_positions)} sample positions for analysis\")"
   ]
  },
  {
   "cell_type": "code",
   "execution_count": null,
   "id": "8763a12b2bbd4a93a75aff182afb95dc",
   "metadata": {
    "id": "8763a12b2bbd4a93a75aff182afb95dc"
   },
   "outputs": [],
   "source": [
    "# Extract features from sample positions\n",
    "print(\"Extracting features from sample positions...\")\n",
    "for i, board in enumerate(sample_positions):\n",
    "    features = baseline_extract_features(board)\n",
    "    print(f\"\\nPosition {i+1}:\")\n",
    "    print(f\"  Material difference: {features['material_diff']:.1f}\")\n",
    "    print(f\"  Mobility (us/them): {features['mobility_us']:.0f}/{features['mobility_them']:.0f}\")\n",
    "    print(f\"  King safety (us/them): {features['king_safety_us']:.1f}/{features['king_safety_them']:.1f}\")\n",
    "    print(f\"  Center control (us/them): {features['center_control_us']:.0f}/{features['center_control_them']:.0f}\")\n",
    "    print(f\"  Passed pawns (us/them): {features['passed_us']:.0f}/{features['passed_them']:.0f}\")"
   ]
  },
  {
   "cell_type": "markdown",
   "id": "5636dfb2",
   "metadata": {},
   "source": [
    "## 2. Explainable Chess Engine Demo"
   ]
  },
  {
   "cell_type": "code",
   "execution_count": null,
   "id": "6ac48b1e",
   "metadata": {},
   "outputs": [],
   "source": [
    "# Demo the explainable chess engine\n",
    "def demo_move_analysis():\n",
    "    \"\"\"Demonstrate move analysis and explanations.\"\"\"\n",
    "    print(\"Chess Move Analysis Demo\")\n",
    "    print(\"=\" * 40)\n",
    "\n",
    "    # Create a sample position\n",
    "    board = chess.Board()\n",
    "    board.push_san(\"e4\")\n",
    "    board.push_san(\"e5\")\n",
    "    board.push_san(\"Nf3\")\n",
    "    board.push_san(\"Nc6\")\n",
    "\n",
    "    print(\"Sample position after 1.e4 e5 2.Nf3 Nc6:\")\n",
    "    print(board)\n",
    "\n",
    "    # Analyze some moves\n",
    "    moves_to_analyze = [\"Bc4\", \"Bb5\", \"d3\", \"Nc3\"]\n",
    "\n",
    "    # Use the engine with proper context management\n",
    "    with ExplainableChessEngine() as engine:\n",
    "        for move_str in moves_to_analyze:\n",
    "            try:\n",
    "                move = board.parse_san(move_str)\n",
    "                if move in board.legal_moves:\n",
    "                    print(f\"\\nAnalyzing move: {move_str}\")\n",
    "\n",
    "                    explanation = engine.explain_move_with_board(move, board)\n",
    "\n",
    "                    print(f\"Move {move_str}:\")\n",
    "                    if explanation.reasons:\n",
    "                        for reason in explanation.reasons[:3]:  # Show top 3 reasons\n",
    "                            print(f\"  • {reason[2]}\")\n",
    "                    else:\n",
    "                        print(f\"  • {explanation.overall_explanation}\")\n",
    "                else:\n",
    "                    print(f\"\\n{move_str} is not a legal move in this position\")\n",
    "            except Exception as e:\n",
    "                print(f\"Error analyzing {move_str}: {e}\")\n",
    "\n",
    "# Run the demo\n",
    "demo_move_analysis()\n"
   ]
  },
  {
   "cell_type": "markdown",
   "id": "4d8b1de6",
   "metadata": {},
   "source": [
    "## 3. Positional Metrics Demo"
   ]
  },
  {
   "cell_type": "code",
   "execution_count": null,
   "id": "7891d1c4",
   "metadata": {},
   "outputs": [],
   "source": [
    "# Demonstrate advanced positional metrics\n",
    "def demo_positional_metrics():\n",
    "    \"\"\"Show advanced chess positional analysis.\"\"\"\n",
    "    print(\"Advanced Positional Metrics Demo\")\n",
    "    print(\"=\" * 40)\n",
    "\n",
    "    # Create a position with passed pawns\n",
    "    board = chess.Board(\"8/8/8/8/4P3/8/8/8 w - - 0 1\")  # White pawn on e4\n",
    "\n",
    "    print(\"Position with passed pawn:\")\n",
    "    print(board)\n",
    "\n",
    "    # Analyze passed pawn momentum\n",
    "    momentum_white = passed_pawn_momentum_snapshot(board, chess.WHITE)\n",
    "    momentum_black = passed_pawn_momentum_snapshot(board, chess.BLACK)\n",
    "\n",
    "    print(\"\\nPassed Pawn Analysis:\")\n",
    "    print(f\"White: {momentum_white['pp_count']} passed pawns\")\n",
    "    print(f\"Black: {momentum_black['pp_count']} passed pawns\")\n",
    "\n",
    "    # Show feature extraction for this position\n",
    "    features = baseline_extract_features(board)\n",
    "    print(\"\\nKey Features:\")\n",
    "    print(f\"Material difference: {features['material_diff']:.1f}\")\n",
    "    print(f\"Mobility: {features['mobility_us']:.0f} vs {features['mobility_them']:.0f}\")\n",
    "    print(f\"King safety: {features['king_safety_us']:.1f} vs {features['king_safety_them']:.1f}\")\n",
    "    print(f\"Center control: {features['center_control_us']:.0f} vs {features['center_control_them']:.0f}\")\n",
    "\n",
    "# Run the demo\n",
    "demo_positional_metrics()\n"
   ]
  },
  {
   "cell_type": "markdown",
   "id": "44c79e7b",
   "metadata": {},
   "source": [
    "## 4. Interactive Chess Game"
   ]
  },
  {
   "cell_type": "code",
   "execution_count": null,
   "id": "925db5dd",
   "metadata": {},
   "outputs": [],
   "source": [
    "# Interactive chess game (simplified demo)\n",
    "def interactive_demo():\n",
    "    \"\"\"Simplified interactive chess demo.\"\"\"\n",
    "    print(\"Interactive Chess Demo\")\n",
    "    print(\"=\" * 30)\n",
    "    print(\"Commands: 'best' for best move, 'quit' to exit\")\n",
    "    print(\"Note: This is a simplified demo. For full interactive play, use:\")\n",
    "    print(\"chess-ai play --strength beginner\")\n",
    "    print()\n",
    "\n",
    "    # Create a simple position\n",
    "    board = chess.Board()\n",
    "    board.push_san(\"e4\")\n",
    "    board.push_san(\"e5\")\n",
    "\n",
    "    print(\"Position after 1.e4 e5:\")\n",
    "    print(board)\n",
    "\n",
    "    # Show some legal moves\n",
    "    legal_moves = list(board.legal_moves)\n",
    "    print(f\"\\nLegal moves: {', '.join([board.san(move) for move in legal_moves[:8]])}\")\n",
    "\n",
    "    # Demonstrate move analysis\n",
    "    print(\"\\nAnalyzing some moves:\")\n",
    "    with ExplainableChessEngine() as engine:\n",
    "        for move_str in [\"Nf3\", \"Bc4\", \"Nc3\"]:\n",
    "            try:\n",
    "                move = board.parse_san(move_str)\n",
    "                if move in legal_moves:\n",
    "                    explanation = engine.explain_move_with_board(move, board)\n",
    "                    print(f\"\\n{move_str}:\")\n",
    "                    if explanation.reasons:\n",
    "                        for reason in explanation.reasons[:2]:\n",
    "                            print(f\"  • {reason[2]}\")\n",
    "                    else:\n",
    "                        print(f\"  • {explanation.overall_explanation}\")\n",
    "            except Exception as e:\n",
    "                print(f\"Error analyzing {move_str}: {e}\")\n",
    "\n",
    "# Run the demo\n",
    "interactive_demo()\n"
   ]
  },
  {
   "cell_type": "markdown",
   "id": "ff9c34dd",
   "metadata": {},
   "source": [
    "## Key Takeaways\n",
    "\n",
    "This demo shows the Chess AI toolkit's capabilities:\n",
    "\n",
    "1. **Feature Extraction**: Analyze chess positions using comprehensive feature sets including material, mobility, king safety, and tactical elements\n",
    "2. **Move Analysis**: Get explanations for why moves are good or bad with specific reasoning\n",
    "3. **Positional Metrics**: Advanced analysis of passed pawns, king safety, and piece activity\n",
    "4. **Interactive Learning**: Play chess with real-time move explanations and feedback\n",
    "\n",
    "### Next Steps\n",
    "\n",
    "- **Full Feature Audit**: `chess-ai audit --baseline_features --positions 100`\n",
    "- **Interactive Play**: `chess-ai play --strength intermediate`  \n",
    "- **Custom Features**: Create your own feature extraction functions\n",
    "- **Research**: Use the toolkit for chess AI explainability research\n",
    "\n",
    "### Installation & Usage\n",
    "\n",
    "```bash\n",
    "# Install the toolkit\n",
    "pip install chess-ai\n",
    "\n",
    "# Run feature audit\n",
    "chess-ai audit --positions 50\n",
    "\n",
    "# Play interactive chess\n",
    "chess-ai play --strength beginner\n",
    "```\n",
    "\n",
    "For more information, visit the [GitHub repository](https://github.com/bangyen/chess).\n"
   ]
  }
 ],
 "metadata": {
  "colab": {
   "provenance": []
  },
  "kernelspec": {
   "display_name": "Python 3",
   "language": "python",
   "name": "python3"
  },
  "language_info": {
   "codemirror_mode": {
    "name": "ipython",
    "version": 3
   },
   "file_extension": ".py",
   "mimetype": "text/x-python",
   "name": "python",
   "nbconvert_exporter": "python",
   "pygments_lexer": "ipython3",
   "version": "3.12.8"
  }
 },
 "nbformat": 4,
 "nbformat_minor": 5
}

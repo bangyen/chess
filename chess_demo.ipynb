{
 "cells": [
  {
   "cell_type": "markdown",
   "id": "7fb27b941602401d91542211134fc71a",
   "metadata": {
    "id": "7fb27b941602401d91542211134fc71a"
   },
   "source": [
    "# Explainable Chess Engine Demo\n",
    "\n",
    "This notebook demonstrates the key features of the Chess AI toolkit for feature explainability analysis and interactive chess gameplay.\n",
    "\n",
    "## What is the Explainable Chess Engine?\n",
    "\n",
    "A comprehensive chess AI toolkit featuring:\n",
    "\n",
    "1. **Feature Explainability Audit**: Evaluate how well chess features explain Stockfish's evaluations using machine learning\n",
    "2. **Explainable Chess Engine**: Play against Stockfish with move explanations and learning feedback  \n",
    "3. **Advanced Positional Metrics**: Sophisticated chess position analysis including passed pawn momentum, king safety, and piece activity\n",
    "4. **Kendall Tau Correlation**: Statistical analysis of move ranking correlations\n",
    "\n",
    "**Key Benefits:**\n",
    "- Understand why chess engines make specific moves\n",
    "- Learn chess through interactive gameplay with explanations\n",
    "- Analyze chess positions using advanced metrics\n",
    "- Research chess AI explainability"
   ]
  },
  {
   "cell_type": "markdown",
   "id": "acae54e37e7d407bbb7b55eff062a284",
   "metadata": {
    "id": "acae54e37e7d407bbb7b55eff062a284"
   },
   "source": [
    "## Setup and Installation"
   ]
  },
  {
   "cell_type": "code",
   "execution_count": null,
   "id": "c0e57cf6",
   "metadata": {
    "id": "c0e57cf6"
   },
   "outputs": [],
   "source": [
    "# Install Stockfish (required for full functionality)\n",
    "# Run this cell if you're using Google Colab or don't have Stockfish installed\n",
    "\n",
    "import os\n",
    "import shutil\n",
    "\n",
    "\n",
    "def find_stockfish():\n",
    "    \"\"\"Find Stockfish executable on the system (simplified for Colab).\"\"\"\n",
    "    # Common paths for Stockfish (Colab-focused)\n",
    "    common_paths = [\n",
    "        \"/usr/bin/stockfish\",  # Linux package manager\n",
    "        \"/usr/games/stockfish\",  # Ubuntu/Debian\n",
    "        \"stockfish\",  # In PATH\n",
    "    ]\n",
    "\n",
    "    # Check each path\n",
    "    for path in common_paths:\n",
    "        if os.path.isfile(path) and os.access(path, os.X_OK):\n",
    "            return path\n",
    "\n",
    "    # Try to find in PATH\n",
    "    stockfish_path = shutil.which(\"stockfish\")\n",
    "\n",
    "    if stockfish_path:\n",
    "        return stockfish_path\n",
    "\n",
    "    return None"
   ]
  },
  {
   "cell_type": "code",
   "execution_count": null,
   "id": "9a63283cbaf04dbcab1f6479b197f3a8",
   "metadata": {
    "id": "9a63283cbaf04dbcab1f6479b197f3a8"
   },
   "outputs": [],
   "source": [
    "! [ ! -d \"chess\" ] && git clone https://github.com/bangyen/chess.git\n",
    "! cd chess && pip install -e .\n",
    "\n",
    "print(\"Setup complete!\")"
   ]
  },
  {
   "cell_type": "markdown",
   "id": "8dd0d8092fe74a7c96281538738b07e2",
   "metadata": {
    "id": "8dd0d8092fe74a7c96281538738b07e2"
   },
   "source": [
    "## Imports and Configuration"
   ]
  },
  {
   "cell_type": "code",
   "execution_count": null,
   "id": "0e0c4552",
   "metadata": {
    "id": "0e0c4552"
   },
   "outputs": [],
   "source": [
    "os.chdir('./chess')\n",
    "\n",
    "print(f\"Current working directory: {os.getcwd()}\")"
   ]
  },
  {
   "cell_type": "code",
   "execution_count": null,
   "id": "72eea5119410473aa328ad9291626812",
   "metadata": {
    "id": "72eea5119410473aa328ad9291626812"
   },
   "outputs": [],
   "source": [
    "import chess\n",
    "import numpy as np\n",
    "\n",
    "from src.chess_ai.explainable_engine import ExplainableChessEngine\n",
    "\n",
    "# Set random seed for reproducibility\n",
    "np.random.seed(42)\n",
    "\n",
    "print(\"Chess AI toolkit imported successfully!\")"
   ]
  },
  {
   "cell_type": "markdown",
   "id": "5636dfb2",
   "metadata": {
    "id": "5636dfb2"
   },
   "source": [
    "## Explainable Chess Engine"
   ]
  },
  {
   "cell_type": "code",
   "execution_count": null,
   "id": "6ac48b1e",
   "metadata": {
    "id": "6ac48b1e"
   },
   "outputs": [],
   "source": [
    "# Demo the explainable chess engine\n",
    "def demo_move_analysis():\n",
    "    \"\"\"Demonstrate move analysis and explanations.\"\"\"\n",
    "    print(\"Chess Move Analysis Demo\")\n",
    "    print(\"=\" * 40)\n",
    "\n",
    "    # Create a complex middlegame position using FEN to avoid ambiguous moves\n",
    "    # This is a complex Sicilian Dragon position with tactical opportunities\n",
    "    fen = 'r1bq1rk1/pp1bppbp/3p1np1/8/2rNP1P1/2N1BP2/PPPQ4/2KR3R w - - 1 16'\n",
    "    board = chess.Board(fen)\n",
    "\n",
    "    print(\"\\nPosition:\\n\")\n",
    "    print(board)\n",
    "    print(f\"\\nFEN: {board.fen()}\")\n",
    "\n",
    "    # Get all legal moves and analyze tactical ones\n",
    "    legal_moves = list(board.legal_moves)\n",
    "    print(f\"\\nTotal legal moves: {len(legal_moves)}\")\n",
    "\n",
    "    # Analyze tactical moves: captures, checks, and center control\n",
    "    moves_to_analyze = []\n",
    "    for move in legal_moves:\n",
    "        move_str = board.san(move)\n",
    "        # Focus on tactical moves: captures, checks, and center control\n",
    "        if (board.is_capture(move) or\n",
    "            board.gives_check(move) or\n",
    "            move.to_square in [chess.E4, chess.E5, chess.D4, chess.D5]):  # Center squares\n",
    "            moves_to_analyze.append(move_str)\n",
    "\n",
    "    print(f\"\\nAnalyzing {len(moves_to_analyze)} tactical moves:\")\n",
    "    print(\"-\" * 50)\n",
    "\n",
    "    stockfish_path = find_stockfish()\n",
    "\n",
    "    # Use the engine with proper context management\n",
    "    try:\n",
    "        with ExplainableChessEngine(stockfish_path=stockfish_path) as engine:\n",
    "            for _, move_str in enumerate(moves_to_analyze, 1):\n",
    "                try:\n",
    "                    move = board.parse_san(move_str)\n",
    "                    explanation = engine.explain_move_with_board(move, board)\n",
    "\n",
    "                    print(f\"\\nMove {move_str}:\")\n",
    "\n",
    "                    if explanation.reasons:\n",
    "                        for _, reason in enumerate(explanation.reasons[:3], 1):  # Show top 3 reasons\n",
    "                            print(f\"  - {reason[2]}\")\n",
    "                    else:\n",
    "                        print(f\"   • {explanation.overall_explanation}\")\n",
    "\n",
    "                except Exception as e:\n",
    "                    print(f\"Error analyzing {move_str}: {e}\")\n",
    "\n",
    "    except Exception as e:\n",
    "        print(f\"Error starting chess engine: {e}\")\n",
    "        print(\"This might be due to:\")\n",
    "        print(\"1. Stockfish not being properly installed\")\n",
    "        print(\"2. Permission issues\")\n",
    "        print(\"3. Environment/PATH issues in the notebook\")\n",
    "\n",
    "# Run the demo\n",
    "demo_move_analysis()"
   ]
  },
  {
   "cell_type": "markdown",
   "id": "ff9c34dd",
   "metadata": {
    "id": "ff9c34dd"
   },
   "source": [
    "## Key Takeaways\n",
    "\n",
    "This demo shows the Chess AI toolkit's capabilities:\n",
    "\n",
    "1. **Feature Extraction**: Analyze chess positions using comprehensive feature sets including material, mobility, king safety, and tactical elements\n",
    "2. **Move Analysis**: Get explanations for why moves are good or bad with specific reasoning\n",
    "3. **Positional Metrics**: Advanced analysis of passed pawns, king safety, and piece activity\n",
    "4. **Interactive Learning**: Play chess with real-time move explanations and feedback\n",
    "\n",
    "### Next Steps\n",
    "\n",
    "- **Full Feature Audit**: `chess-ai audit --baseline_features --positions 100`\n",
    "- **Interactive Play**: `chess-ai play --strength intermediate`  \n",
    "- **Custom Features**: Create your own feature extraction functions\n",
    "- **Research**: Use the toolkit for chess AI explainability research\n",
    "\n",
    "### Installation & Usage\n",
    "\n",
    "```bash\n",
    "# Install the toolkit\n",
    "pip install chess-ai\n",
    "\n",
    "# Run feature audit\n",
    "chess-ai audit --positions 50\n",
    "\n",
    "# Play interactive chess\n",
    "chess-ai play --strength beginner\n",
    "```\n",
    "\n",
    "For more information, visit the [GitHub repository](https://github.com/bangyen/chess).\n"
   ]
  }
 ],
 "metadata": {
  "colab": {
   "provenance": []
  },
  "kernelspec": {
   "display_name": "Python 3",
   "language": "python",
   "name": "python3"
  },
  "language_info": {
   "codemirror_mode": {
    "name": "ipython",
    "version": 3
   },
   "file_extension": ".py",
   "mimetype": "text/x-python",
   "name": "python",
   "nbconvert_exporter": "python",
   "pygments_lexer": "ipython3",
   "version": "3.12.8"
  }
 },
 "nbformat": 4,
 "nbformat_minor": 5
}
